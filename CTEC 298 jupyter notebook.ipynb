{
 "cells": [
  {
   "cell_type": "code",
   "execution_count": 2,
   "id": "breeding-inflation",
   "metadata": {},
   "outputs": [
    {
     "name": "stdout",
     "output_type": "stream",
     "text": [
      "Hello World\n"
     ]
    }
   ],
   "source": [
    "print(\"Hello World\")"
   ]
  },
  {
   "cell_type": "code",
   "execution_count": 3,
   "id": "spatial-position",
   "metadata": {},
   "outputs": [
    {
     "name": "stdout",
     "output_type": "stream",
     "text": [
      "   Year Production  Imports Exports Apparent consumption  Unit value ($/t)  \\\n",
      "0  1900  2,650,000  181,000   7,000            2,560,000              2.62   \n",
      "1  1901  2,610,000  183,000   9,000            2,530,000              2.54   \n",
      "2  1902  3,030,000  168,000   5,000            2,900,000              1.87   \n",
      "\n",
      "   Unit value  (98$/t) World production  \n",
      "0                 51.0       12,200,000  \n",
      "1                 50.0       12,300,000  \n",
      "2                 35.0       12,600,000  \n"
     ]
    }
   ],
   "source": [
    "import pandas as pd\n",
    "df = pd.read_csv('roadsalt.csv')\n",
    "print(df.head(3))\n",
    "#print(df.tail(3))"
   ]
  },
  {
   "cell_type": "code",
   "execution_count": 7,
   "id": "absent-vertical",
   "metadata": {
    "scrolled": true
   },
   "outputs": [
    {
     "name": "stdout",
     "output_type": "stream",
     "text": [
      "[['ï»¿Year,Production,Imports,Exports,Apparent consumption,Unit value ($/t),Unit value  (98$/t),World production'], ['1900,\"2,650,000\",\"181,000\",\"7,000\",\"2,560,000\",2.62,51,\"12,200,000\"'], ['1901,\"2,610,000\",\"183,000\",\"9,000\",\"2,530,000\",2.54,50,\"12,300,000\"']]\n"
     ]
    }
   ],
   "source": [
    "import csv\n",
    "with open('roadsalt.csv', 'r') as f:\n",
    "    salt = list(csv.reader(f, delimiter=';'))\n",
    "print(salt[:3])"
   ]
  },
  {
   "cell_type": "code",
   "execution_count": 23,
   "id": "raising-timber",
   "metadata": {},
   "outputs": [
    {
     "ename": "TypeError",
     "evalue": "'module' object is not callable",
     "output_type": "error",
     "traceback": [
      "\u001b[1;31m---------------------------------------------------------------------------\u001b[0m",
      "\u001b[1;31mTypeError\u001b[0m                                 Traceback (most recent call last)",
      "\u001b[1;32m<ipython-input-23-0546d06a7f5e>\u001b[0m in \u001b[0;36m<module>\u001b[1;34m\u001b[0m\n\u001b[0;32m     13\u001b[0m \u001b[1;33m\u001b[0m\u001b[0m\n\u001b[0;32m     14\u001b[0m \u001b[1;33m\u001b[0m\u001b[0m\n\u001b[1;32m---> 15\u001b[1;33m \u001b[0my\u001b[0m \u001b[1;33m=\u001b[0m \u001b[0mmlab\u001b[0m\u001b[1;33m(\u001b[0m\u001b[0mbins\u001b[0m\u001b[1;33m,\u001b[0m \u001b[0mmu\u001b[0m\u001b[1;33m,\u001b[0m \u001b[0msigma\u001b[0m\u001b[1;33m)\u001b[0m\u001b[1;33m\u001b[0m\u001b[1;33m\u001b[0m\u001b[0m\n\u001b[0m\u001b[0;32m     16\u001b[0m \u001b[0mplt\u001b[0m\u001b[1;33m.\u001b[0m\u001b[0mplot\u001b[0m\u001b[1;33m(\u001b[0m\u001b[0mbins\u001b[0m\u001b[1;33m,\u001b[0m \u001b[0my\u001b[0m\u001b[1;33m,\u001b[0m \u001b[1;34m'r--'\u001b[0m\u001b[1;33m)\u001b[0m\u001b[1;33m\u001b[0m\u001b[1;33m\u001b[0m\u001b[0m\n\u001b[0;32m     17\u001b[0m \u001b[0mplt\u001b[0m\u001b[1;33m.\u001b[0m\u001b[0mxlabel\u001b[0m\u001b[1;33m(\u001b[0m\u001b[1;34m'Smarts'\u001b[0m\u001b[1;33m)\u001b[0m\u001b[1;33m\u001b[0m\u001b[1;33m\u001b[0m\u001b[0m\n",
      "\u001b[1;31mTypeError\u001b[0m: 'module' object is not callable"
     ]
    },
    {
     "data": {
      "image/png": "[encoded data removed]",
      "text/plain": [
       "<Figure size 432x288 with 1 Axes>"
      ]
     },
     "metadata": {
      "needs_background": "light"
     },
     "output_type": "display_data"
    }
   ],
   "source": [
    "import numpy as np\n",
    "import matplotlib.mlab as mlab\n",
    "import matplotlib.pyplot as plt\n",
    "\n",
    "# example data\n",
    "mu = 100 # mean of distribution\n",
    "sigma = 15 # standard deviation of distribution\n",
    "x = mu + sigma * np.random.randn(10000)\n",
    "\n",
    "num_bins = 20\n",
    "# the histogram of the data\n",
    "n, bins, patches = plt.hist(x, num_bins, facecolor='blue', alpha=0.5)\n",
    "\n",
    "\n",
    "y = mlab(bins, mu, sigma)\n",
    "plt.plot(bins, y, 'r--')\n",
    "plt.xlabel('Smarts')\n",
    "plt.ylabel('Probability')\n",
    "plt.title(r'Histogram of IQ: $\\mu=100$, $\\sigma=15$')\n",
    "\n",
    "\n",
    "plt.subplots_adjust(left=0.15)\n",
    "plt.show"
   ]
  },
  {
   "cell_type": "code",
   "execution_count": 14,
   "id": "excellent-sacramento",
   "metadata": {
    "scrolled": true
   },
   "outputs": [
    {
     "name": "stdout",
     "output_type": "stream",
     "text": [
      "Next plot\n"
     ]
    }
   ],
   "source": [
    "print(\"Next plot\")"
   ]
  },
  {
   "cell_type": "code",
   "execution_count": 115,
   "id": "found-lecture",
   "metadata": {},
   "outputs": [
    {
     "name": "stdout",
     "output_type": "stream",
     "text": [
      "Year\n",
      "1900-01-01      7,000\n",
      "1901-01-01      9,000\n",
      "1902-01-01      5,000\n",
      "1903-01-01     12,000\n",
      "1904-01-01     13,000\n",
      "1905-01-01     31,000\n",
      "1906-01-01     31,000\n",
      "1907-01-01     28,000\n",
      "1908-01-01     24,000\n",
      "1909-01-01     36,000\n",
      "1910-01-01     44,000\n",
      "1911-01-01     44,000\n",
      "1912-01-01     57,000\n",
      "1913-01-01     64,000\n",
      "1914-01-01     75,000\n",
      "1915-01-01     73,000\n",
      "1916-01-01     76,000\n",
      "1917-01-01    103,000\n",
      "1918-01-01    124,000\n",
      "Name: Exports, dtype: object\n"
     ]
    },
    {
     "data": {
      "text/plain": [
       "<AxesSubplot:xlabel='Year'>"
      ]
     },
     "execution_count": 115,
     "metadata": {},
     "output_type": "execute_result"
    },
    {
     "data": {
      "image/png": "[encoded data removed]",
      "text/plain": [
       "<Figure size 432x288 with 1 Axes>"
      ]
     },
     "metadata": {
      "needs_background": "light"
     },
     "output_type": "display_data"
    }
   ],
   "source": [
    "df = pd.read_csv(\"roadsalt.csv\", index_col= \"Year\", parse_dates = True)\n",
    "\n",
    "print(df.Exports)\n",
    "df.plot()\n"
   ]
  },
  {
   "cell_type": "code",
   "execution_count": 80,
   "id": "authorized-processor",
   "metadata": {},
   "outputs": [
    {
     "data": {
      "text/plain": [
       "<AxesSubplot:xlabel='Imports', ylabel='Exports'>"
      ]
     },
     "execution_count": 80,
     "metadata": {},
     "output_type": "execute_result"
    },
    {
     "data": {
      "image/png": "[encoded data removed]",
      "text/plain": [
       "<Figure size 432x288 with 1 Axes>"
      ]
     },
     "metadata": {
      "needs_background": "light"
     },
     "output_type": "display_data"
    }
   ],
   "source": [
    "df.plot.scatter(x = \"Imports\" , y = \"Exports\", alpha = 1)"
   ]
  },
  {
   "cell_type": "code",
   "execution_count": 72,
   "id": "separated-sequence",
   "metadata": {},
   "outputs": [
    {
     "data": {
      "image/png": "[encoded data removed]",
      "text/plain": [
       "<Figure size 864x288 with 2 Axes>"
      ]
     },
     "metadata": {
      "needs_background": "light"
     },
     "output_type": "display_data"
    }
   ],
   "source": [
    "axs = df.plot.area(figsize = (12,4),subplots = True)"
   ]
  },
  {
   "cell_type": "code",
   "execution_count": 73,
   "id": "enclosed-frontier",
   "metadata": {},
   "outputs": [
    {
     "data": {
      "text/plain": [
       "<AxesSubplot:>"
      ]
     },
     "execution_count": 73,
     "metadata": {},
     "output_type": "execute_result"
    },
    {
     "data": {
      "image/png": "[encoded data removed]",
      "text/plain": [
       "<Figure size 432x288 with 1 Axes>"
      ]
     },
     "metadata": {
      "needs_background": "light"
     },
     "output_type": "display_data"
    }
   ],
   "source": [
    "df.plot.box()"
   ]
  },
  {
   "cell_type": "code",
   "execution_count": 79,
   "id": "fundamental-variable",
   "metadata": {},
   "outputs": [
    {
     "data": {
      "text/html": [
       "<div>\n",
       "<style scoped>\n",
       "    .dataframe tbody tr th:only-of-type {\n",
       "        vertical-align: middle;\n",
       "    }\n",
       "\n",
       "    .dataframe tbody tr th {\n",
       "        vertical-align: top;\n",
       "    }\n",
       "\n",
       "    .dataframe thead th {\n",
       "        text-align: right;\n",
       "    }\n",
       "</style>\n",
       "<table border=\"1\" class=\"dataframe\">\n",
       "  <thead>\n",
       "    <tr style=\"text-align: right;\">\n",
       "      <th></th>\n",
       "      <th>Production</th>\n",
       "      <th>Imports</th>\n",
       "      <th>Exports</th>\n",
       "      <th>Apparent consumption</th>\n",
       "      <th>Unit value ($/t)</th>\n",
       "      <th>Unit value  (98$/t)</th>\n",
       "      <th>World production</th>\n",
       "    </tr>\n",
       "    <tr>\n",
       "      <th>Year</th>\n",
       "      <th></th>\n",
       "      <th></th>\n",
       "      <th></th>\n",
       "      <th></th>\n",
       "      <th></th>\n",
       "      <th></th>\n",
       "      <th></th>\n",
       "    </tr>\n",
       "  </thead>\n",
       "  <tbody>\n",
       "    <tr>\n",
       "      <th>1900</th>\n",
       "      <td>2,650,000</td>\n",
       "      <td>181,000</td>\n",
       "      <td>7,000</td>\n",
       "      <td>2,560,000</td>\n",
       "      <td>2.62</td>\n",
       "      <td>51.0</td>\n",
       "      <td>12,200,000</td>\n",
       "    </tr>\n",
       "    <tr>\n",
       "      <th>1901</th>\n",
       "      <td>2,610,000</td>\n",
       "      <td>183,000</td>\n",
       "      <td>9,000</td>\n",
       "      <td>2,530,000</td>\n",
       "      <td>2.54</td>\n",
       "      <td>50.0</td>\n",
       "      <td>12,300,000</td>\n",
       "    </tr>\n",
       "    <tr>\n",
       "      <th>1902</th>\n",
       "      <td>3,030,000</td>\n",
       "      <td>168,000</td>\n",
       "      <td>5,000</td>\n",
       "      <td>2,900,000</td>\n",
       "      <td>1.87</td>\n",
       "      <td>35.0</td>\n",
       "      <td>12,600,000</td>\n",
       "    </tr>\n",
       "    <tr>\n",
       "      <th>1903</th>\n",
       "      <td>2,410,000</td>\n",
       "      <td>149,000</td>\n",
       "      <td>12,000</td>\n",
       "      <td>2,310,000</td>\n",
       "      <td>2.19</td>\n",
       "      <td>40.0</td>\n",
       "      <td>12,400,000</td>\n",
       "    </tr>\n",
       "    <tr>\n",
       "      <th>1904</th>\n",
       "      <td>2,800,000</td>\n",
       "      <td>151,000</td>\n",
       "      <td>13,000</td>\n",
       "      <td>2,660,000</td>\n",
       "      <td>2.15</td>\n",
       "      <td>39.0</td>\n",
       "      <td>13,200,000</td>\n",
       "    </tr>\n",
       "  </tbody>\n",
       "</table>\n",
       "</div>"
      ],
      "text/plain": [
       "     Production  Imports Exports Apparent consumption  Unit value ($/t)  \\\n",
       "Year                                                                      \n",
       "1900  2,650,000  181,000   7,000            2,560,000              2.62   \n",
       "1901  2,610,000  183,000   9,000            2,530,000              2.54   \n",
       "1902  3,030,000  168,000   5,000            2,900,000              1.87   \n",
       "1903  2,410,000  149,000  12,000            2,310,000              2.19   \n",
       "1904  2,800,000  151,000  13,000            2,660,000              2.15   \n",
       "\n",
       "      Unit value  (98$/t) World production  \n",
       "Year                                        \n",
       "1900                 51.0       12,200,000  \n",
       "1901                 50.0       12,300,000  \n",
       "1902                 35.0       12,600,000  \n",
       "1903                 40.0       12,400,000  \n",
       "1904                 39.0       13,200,000  "
      ]
     },
     "execution_count": 79,
     "metadata": {},
     "output_type": "execute_result"
    }
   ],
   "source": [
    "pd.set_option(\"display.max.columns\",None)\n",
    "df.head()"
   ]
  },
  {
   "cell_type": "code",
   "execution_count": 87,
   "id": "alternative-master",
   "metadata": {},
   "outputs": [
    {
     "data": {
      "text/plain": [
       "<AxesSubplot:xlabel='Year'>"
      ]
     },
     "execution_count": 87,
     "metadata": {},
     "output_type": "execute_result"
    },
    {
     "data": {
      "image/png": "[encoded data removed]",
      "text/plain": [
       "<Figure size 432x288 with 1 Axes>"
      ]
     },
     "metadata": {
      "needs_background": "light"
     },
     "output_type": "display_data"
    }
   ],
   "source": [
    "df.plot.bar()\n"
   ]
  },
  {
   "cell_type": "code",
   "execution_count": 88,
   "id": "stretch-breed",
   "metadata": {},
   "outputs": [
    {
     "name": "stdout",
     "output_type": "stream",
     "text": [
      "Collecting nbdimeNote: you may need to restart the kernel to use updated packages.\n",
      "  Downloading nbdime-2.1.0-py2.py3-none-any.whl (5.0 MB)\n",
      "Requirement already satisfied: nbformat in c:\\users\\eliii\\anaconda3\\lib\\site-packages (from nbdime) (5.1.2)\n",
      "Requirement already satisfied: six in c:\\users\\eliii\\anaconda3\\lib\\site-packages (from nbdime) (1.15.0)\n",
      "Requirement already satisfied: notebook in c:\\users\\eliii\\anaconda3\\lib\\site-packages (from nbdime) (6.2.0)\n",
      "Requirement already satisfied: colorama in c:\\users\\eliii\\anaconda3\\lib\\site-packages (from nbdime) (0.4.4)\n",
      "Requirement already satisfied: pygments in c:\\users\\eliii\\anaconda3\\lib\\site-packages (from nbdime) (2.7.4)\n",
      "Requirement already satisfied: requests in c:\\users\\eliii\\anaconda3\\lib\\site-packages (from nbdime) (2.25.1)\n",
      "Requirement already satisfied: tornado in c:\\users\\eliii\\anaconda3\\lib\\site-packages (from nbdime) (6.1)\n",
      "Requirement already satisfied: jinja2>=2.9 in c:\\users\\eliii\\anaconda3\\lib\\site-packages (from nbdime) (2.11.3)\n",
      "Collecting GitPython!=2.1.4,!=2.1.5,!=2.1.6\n",
      "  Downloading GitPython-3.1.14-py3-none-any.whl (159 kB)\n",
      "Collecting gitdb<5,>=4.0.1\n",
      "  Downloading gitdb-4.0.5-py3-none-any.whl (63 kB)\n",
      "Requirement already satisfied: MarkupSafe>=0.23 in c:\\users\\eliii\\anaconda3\\lib\\site-packages (from jinja2>=2.9->nbdime) (1.1.1)\n",
      "Collecting smmap<4,>=3.0.1\n",
      "  Downloading smmap-3.0.5-py2.py3-none-any.whl (25 kB)\n",
      "\n",
      "Requirement already satisfied: ipython-genutils in c:\\users\\eliii\\anaconda3\\lib\\site-packages (from nbformat->nbdime) (0.2.0)\n",
      "Requirement already satisfied: traitlets>=4.1 in c:\\users\\eliii\\anaconda3\\lib\\site-packages (from nbformat->nbdime) (5.0.5)\n",
      "Requirement already satisfied: jsonschema!=2.5.0,>=2.4 in c:\\users\\eliii\\anaconda3\\lib\\site-packages (from nbformat->nbdime) (3.2.0)\n",
      "Requirement already satisfied: jupyter-core in c:\\users\\eliii\\anaconda3\\lib\\site-packages (from nbformat->nbdime) (4.7.1)\n",
      "Requirement already satisfied: attrs>=17.4.0 in c:\\users\\eliii\\anaconda3\\lib\\site-packages (from jsonschema!=2.5.0,>=2.4->nbformat->nbdime) (20.3.0)\n",
      "Requirement already satisfied: setuptools in c:\\users\\eliii\\anaconda3\\lib\\site-packages (from jsonschema!=2.5.0,>=2.4->nbformat->nbdime) (52.0.0.post20210125)\n",
      "Requirement already satisfied: pyrsistent>=0.14.0 in c:\\users\\eliii\\anaconda3\\lib\\site-packages (from jsonschema!=2.5.0,>=2.4->nbformat->nbdime) (0.17.3)\n",
      "Requirement already satisfied: pywin32>=1.0 in c:\\users\\eliii\\anaconda3\\lib\\site-packages (from jupyter-core->nbformat->nbdime) (227)\n",
      "Requirement already satisfied: argon2-cffi in c:\\users\\eliii\\anaconda3\\lib\\site-packages (from notebook->nbdime) (20.1.0)\n",
      "Requirement already satisfied: prometheus-client in c:\\users\\eliii\\anaconda3\\lib\\site-packages (from notebook->nbdime) (0.9.0)\n",
      "Requirement already satisfied: jupyter-client>=5.3.4 in c:\\users\\eliii\\anaconda3\\lib\\site-packages (from notebook->nbdime) (6.1.7)\n",
      "Requirement already satisfied: pyzmq>=17 in c:\\users\\eliii\\anaconda3\\lib\\site-packages (from notebook->nbdime) (20.0.0)\n",
      "Requirement already satisfied: nbconvert in c:\\users\\eliii\\anaconda3\\lib\\site-packages (from notebook->nbdime) (6.0.7)\n",
      "Requirement already satisfied: ipykernel in c:\\users\\eliii\\anaconda3\\lib\\site-packages (from notebook->nbdime) (5.3.4)\n",
      "Requirement already satisfied: terminado>=0.8.3 in c:\\users\\eliii\\anaconda3\\lib\\site-packages (from notebook->nbdime) (0.9.2)\n",
      "Requirement already satisfied: Send2Trash>=1.5.0 in c:\\users\\eliii\\anaconda3\\lib\\site-packages (from notebook->nbdime) (1.5.0)\n",
      "Requirement already satisfied: python-dateutil>=2.1 in c:\\users\\eliii\\anaconda3\\lib\\site-packages (from jupyter-client>=5.3.4->notebook->nbdime) (2.8.1)\n",
      "Requirement already satisfied: pywinpty>=0.5 in c:\\users\\eliii\\anaconda3\\lib\\site-packages (from terminado>=0.8.3->notebook->nbdime) (0.5.7)\n",
      "Requirement already satisfied: cffi>=1.0.0 in c:\\users\\eliii\\anaconda3\\lib\\site-packages (from argon2-cffi->notebook->nbdime) (1.14.4)\n",
      "Requirement already satisfied: pycparser in c:\\users\\eliii\\anaconda3\\lib\\site-packages (from cffi>=1.0.0->argon2-cffi->notebook->nbdime) (2.20)\n",
      "Requirement already satisfied: ipython>=5.0.0 in c:\\users\\eliii\\anaconda3\\lib\\site-packages (from ipykernel->notebook->nbdime) (7.20.0)\n",
      "Requirement already satisfied: backcall in c:\\users\\eliii\\anaconda3\\lib\\site-packages (from ipython>=5.0.0->ipykernel->notebook->nbdime) (0.2.0)\n",
      "Requirement already satisfied: decorator in c:\\users\\eliii\\anaconda3\\lib\\site-packages (from ipython>=5.0.0->ipykernel->notebook->nbdime) (4.4.2)\n",
      "Requirement already satisfied: jedi>=0.16 in c:\\users\\eliii\\anaconda3\\lib\\site-packages (from ipython>=5.0.0->ipykernel->notebook->nbdime) (0.17.0)\n",
      "Requirement already satisfied: prompt-toolkit!=3.0.0,!=3.0.1,<3.1.0,>=2.0.0 in c:\\users\\eliii\\anaconda3\\lib\\site-packages (from ipython>=5.0.0->ipykernel->notebook->nbdime) (3.0.8)\n",
      "Requirement already satisfied: pickleshare in c:\\users\\eliii\\anaconda3\\lib\\site-packages (from ipython>=5.0.0->ipykernel->notebook->nbdime) (0.7.5)\n",
      "Requirement already satisfied: parso>=0.7.0 in c:\\users\\eliii\\anaconda3\\lib\\site-packages (from jedi>=0.16->ipython>=5.0.0->ipykernel->notebook->nbdime) (0.8.1)\n",
      "Requirement already satisfied: wcwidth in c:\\users\\eliii\\anaconda3\\lib\\site-packages (from prompt-toolkit!=3.0.0,!=3.0.1,<3.1.0,>=2.0.0->ipython>=5.0.0->ipykernel->notebook->nbdime) (0.2.5)\n",
      "Requirement already satisfied: mistune<2,>=0.8.1 in c:\\users\\eliii\\anaconda3\\lib\\site-packages (from nbconvert->notebook->nbdime) (0.8.4)\n",
      "Requirement already satisfied: pandocfilters>=1.4.1 in c:\\users\\eliii\\anaconda3\\lib\\site-packages (from nbconvert->notebook->nbdime) (1.4.3)\n",
      "Requirement already satisfied: nbclient<0.6.0,>=0.5.0 in c:\\users\\eliii\\anaconda3\\lib\\site-packages (from nbconvert->notebook->nbdime) (0.5.1)\n",
      "Requirement already satisfied: testpath in c:\\users\\eliii\\anaconda3\\lib\\site-packages (from nbconvert->notebook->nbdime) (0.4.4)\n",
      "Requirement already satisfied: bleach in c:\\users\\eliii\\anaconda3\\lib\\site-packages (from nbconvert->notebook->nbdime) (3.3.0)\n",
      "Requirement already satisfied: defusedxml in c:\\users\\eliii\\anaconda3\\lib\\site-packages (from nbconvert->notebook->nbdime) (0.6.0)\n",
      "Requirement already satisfied: jupyterlab-pygments in c:\\users\\eliii\\anaconda3\\lib\\site-packages (from nbconvert->notebook->nbdime) (0.1.2)\n",
      "Requirement already satisfied: entrypoints>=0.2.2 in c:\\users\\eliii\\anaconda3\\lib\\site-packages (from nbconvert->notebook->nbdime) (0.3)\n",
      "Requirement already satisfied: async-generator in c:\\users\\eliii\\anaconda3\\lib\\site-packages (from nbclient<0.6.0,>=0.5.0->nbconvert->notebook->nbdime) (1.10)\n",
      "Requirement already satisfied: nest-asyncio in c:\\users\\eliii\\anaconda3\\lib\\site-packages (from nbclient<0.6.0,>=0.5.0->nbconvert->notebook->nbdime) (1.4.3)\n",
      "Requirement already satisfied: packaging in c:\\users\\eliii\\anaconda3\\lib\\site-packages (from bleach->nbconvert->notebook->nbdime) (20.9)\n",
      "Requirement already satisfied: webencodings in c:\\users\\eliii\\anaconda3\\lib\\site-packages (from bleach->nbconvert->notebook->nbdime) (0.5.1)\n",
      "Requirement already satisfied: pyparsing>=2.0.2 in c:\\users\\eliii\\anaconda3\\lib\\site-packages (from packaging->bleach->nbconvert->notebook->nbdime) (2.4.7)\n",
      "Requirement already satisfied: idna<3,>=2.5 in c:\\users\\eliii\\anaconda3\\lib\\site-packages (from requests->nbdime) (2.10)\n",
      "Requirement already satisfied: certifi>=2017.4.17 in c:\\users\\eliii\\anaconda3\\lib\\site-packages (from requests->nbdime) (2020.12.5)\n",
      "Requirement already satisfied: urllib3<1.27,>=1.21.1 in c:\\users\\eliii\\anaconda3\\lib\\site-packages (from requests->nbdime) (1.26.3)\n",
      "Requirement already satisfied: chardet<5,>=3.0.2 in c:\\users\\eliii\\anaconda3\\lib\\site-packages (from requests->nbdime) (4.0.0)\n",
      "Installing collected packages: smmap, gitdb, GitPython, nbdime\n",
      "Successfully installed GitPython-3.1.14 gitdb-4.0.5 nbdime-2.1.0 smmap-3.0.5\n"
     ]
    }
   ],
   "source": [
    "pip install nbdime"
   ]
  },
  {
   "cell_type": "code",
   "execution_count": 97,
   "id": "compatible-france",
   "metadata": {},
   "outputs": [
    {
     "data": {
      "image/png": "[encoded data removed]",
      "text/plain": [
       "<Figure size 360x576 with 1 Axes>"
      ]
     },
     "metadata": {},
     "output_type": "display_data"
    }
   ],
   "source": [
    "df = pd.DataFrame({'mass': [0.330, 4.87 , 5.97],\n",
    "                   'radius': [2439.7, 6051.8, 6378.1]},\n",
    "                  index=['Education', 'Military', 'Politics'])\n",
    "plot = df.plot.pie(y='mass', figsize=(5, 8))"
   ]
  },
  {
   "cell_type": "code",
   "execution_count": 108,
   "id": "lovely-schedule",
   "metadata": {},
   "outputs": [
    {
     "name": "stdout",
     "output_type": "stream",
     "text": [
      "    Year Production  Imports  Exports Apparent consumption  Unit value ($/t)  \\\n",
      "0   1900  2,650,000  181,000    7,000            2,560,000              2.62   \n",
      "1   1901  2,610,000  183,000    9,000            2,530,000              2.54   \n",
      "2   1902  3,030,000  168,000    5,000            2,900,000              1.87   \n",
      "3   1903  2,410,000  149,000   12,000            2,310,000              2.19   \n",
      "4   1904  2,800,000  151,000   13,000            2,660,000              2.15   \n",
      "5   1905  3,300,000  146,000   31,000            3,100,000              1.85   \n",
      "6   1906  3,580,000  158,000   31,000            3,360,000              1.86   \n",
      "7   1907  3,770,000  135,000   28,000            3,520,000              2.02   \n",
      "8   1908  3,660,000  145,000   24,000            3,430,000              2.06   \n",
      "9   1909  3,820,000  136,000   36,000            3,560,000              2.18   \n",
      "10  1910  3,850,000  124,000   44,000            3,560,000              2.05   \n",
      "11  1911  3,960,000  129,000   44,000            3,670,000              2.11   \n",
      "12  1912  4,230,000  127,000   57,000            3,900,000              2.23   \n",
      "13  1913  4,370,000  140,000   64,000            4,030,000              2.31   \n",
      "14  1914  4,420,000  119,000   75,000            4,050,000              2.30   \n",
      "15  1915  4,860,000  111,000   73,000            4,440,000              2.41   \n",
      "16  1916  5,770,000  111,000   76,000            5,270,000              2.36   \n",
      "17  1917  6,330,000   59,000  103,000            5,700,000              3.15   \n",
      "18  1918  6,570,000   37,000  124,000            5,880,000              4.10   \n",
      "\n",
      "    Unit value  (98$/t) World production  \n",
      "0                  51.0       12,200,000  \n",
      "1                  50.0       12,300,000  \n",
      "2                  35.0       12,600,000  \n",
      "3                  40.0       12,400,000  \n",
      "4                  39.0       13,200,000  \n",
      "5                  33.0       13,700,000  \n",
      "6                  34.0       13,900,000  \n",
      "7                  35.0              NaN  \n",
      "8                  37.0              NaN  \n",
      "9                  39.0              NaN  \n",
      "10                 36.0              NaN  \n",
      "11                 37.0              NaN  \n",
      "12                 38.0              NaN  \n",
      "13                 38.0       17,600,000  \n",
      "14                 37.3       16,900,000  \n",
      "15                 38.7       15,300,000  \n",
      "16                 35.2       17,100,000  \n",
      "17                 40.1       17,600,000  \n",
      "18                 44.4       17,800,000  \n"
     ]
    }
   ],
   "source": [
    "print(df)"
   ]
  },
  {
   "cell_type": "code",
   "execution_count": 109,
   "id": "hungry-smooth",
   "metadata": {},
   "outputs": [
    {
     "name": "stdout",
     "output_type": "stream",
     "text": [
      "    Year Production\n",
      "0   1900  2,650,000\n",
      "1   1901  2,610,000\n",
      "2   1902  3,030,000\n",
      "3   1903  2,410,000\n",
      "4   1904  2,800,000\n",
      "5   1905  3,300,000\n",
      "6   1906  3,580,000\n",
      "7   1907  3,770,000\n",
      "8   1908  3,660,000\n",
      "9   1909  3,820,000\n",
      "10  1910  3,850,000\n",
      "11  1911  3,960,000\n",
      "12  1912  4,230,000\n",
      "13  1913  4,370,000\n",
      "14  1914  4,420,000\n",
      "15  1915  4,860,000\n",
      "16  1916  5,770,000\n",
      "17  1917  6,330,000\n",
      "18  1918  6,570,000\n"
     ]
    }
   ],
   "source": [
    "noob = df[['Year','Production']]\n",
    "print(noob)"
   ]
  },
  {
   "cell_type": "code",
   "execution_count": 112,
   "id": "breeding-september",
   "metadata": {},
   "outputs": [],
   "source": [
    "noob_edit= df[['Year','Exports']].head(6)\n"
   ]
  },
  {
   "cell_type": "code",
   "execution_count": 118,
   "id": "international-advancement",
   "metadata": {},
   "outputs": [
    {
     "name": "stdout",
     "output_type": "stream",
     "text": [
      "     Name  Age  Height(cm)  Weight(kg)\n",
      "0   Rudra   23         156          70\n",
      "1   Nayan   20         136          60\n",
      "2    Alok   15         100          35\n",
      "3  Prince   30         150          85\n"
     ]
    }
   ],
   "source": [
    "import pandas as pd \n",
    "\n",
    "data=[[\"Rudra\",23,156,70],\n",
    "      [\"Nayan\",20,136,60],\n",
    "      [\"Alok\",15,100,35],\n",
    "      [\"Prince\",30,150,85]\n",
    "     ]\n",
    "\n",
    "nf =pd.DataFrame(data,columns=[\"Name\",\"Age\",\"Height(cm)\",\"Weight(kg)\"])\n",
    "print(nf)"
   ]
  },
  {
   "cell_type": "code",
   "execution_count": 119,
   "id": "functioning-start",
   "metadata": {
    "scrolled": true
   },
   "outputs": [
    {
     "data": {
      "image/png": "[encoded data removed]",
      "text/plain": [
       "<Figure size 648x576 with 1 Axes>"
      ]
     },
     "metadata": {
      "needs_background": "light"
     },
     "output_type": "display_data"
    }
   ],
   "source": [
    "nf=pd.DataFrame(data,columns=[\"Name\",\"Age\",\"Height(cm)\",\"Weight(kg)\"])\n",
    "nf.plot(x=\"Name\", y=[\"Age\", \"Height(cm)\", \"Weight(kg)\"], kind=\"bar\",figsize=(9,8))\n",
    "plt.show()"
   ]
  },
  {
   "cell_type": "code",
   "execution_count": 122,
   "id": "constant-stand",
   "metadata": {},
   "outputs": [
    {
     "data": {
      "image/png": "[encoded data removed]",
      "text/plain": [
       "<Figure size 432x288 with 4 Axes>"
      ]
     },
     "metadata": {
      "needs_background": "light"
     },
     "output_type": "display_data"
    }
   ],
   "source": [
    "# importing libraries \n",
    "import matplotlib.pyplot as plt \n",
    "import numpy as np \n",
    "import math\n",
    "\n",
    "# Get the angles from 0 to 2 pie (360 degree) in narray object \n",
    "X = np.arange(0, math.pi*2, 0.05)\n",
    "\n",
    "# Using built-in trigonometric function we can directly plot\n",
    "# the given cosine wave for the given angles\n",
    "Y1 = np.sin(X)\n",
    "Y2 = np.cos(X)\n",
    "Y3 = np.tan(X)\n",
    "Y4 = np.tanh(X)\n",
    "# Initialise the subplot function using number of rows and columns\n",
    "figure, axis = plt.subplots(2, 2)\n",
    "# For Sine Function\n",
    "axis[0, 0].plot(X, Y1)\n",
    "axis[0, 0].set_title(\"Sine Function\")\n",
    "# For Cosine Function\n",
    "axis[0, 1].plot(X, Y2)\n",
    "axis[0, 1].set_title(\"Cosine Function\")\n",
    "# For Tangent Function\n",
    "axis[1, 0].plot(X, Y3)\n",
    "axis[1, 0].set_title(\"Tangent Function\")\n",
    "# For Tanh Function\n",
    "axis[1, 1].plot(X, Y4)\n",
    "axis[1, 1].set_title(\"Tanh Function\")\n",
    "# Combine all the operations and display\n",
    "plt.show()"
   ]
  },
  {
   "cell_type": "code",
   "execution_count": null,
   "id": "bottom-symposium",
   "metadata": {},
   "outputs": [],
   "source": []
  }
 ],
 "metadata": {
  "kernelspec": {
   "display_name": "Python 3",
   "language": "python",
   "name": "python3"
  },
  "language_info": {
   "codemirror_mode": {
    "name": "ipython",
    "version": 3
   },
   "file_extension": ".py",
   "mimetype": "text/x-python",
   "name": "python",
   "nbconvert_exporter": "python",
   "pygments_lexer": "ipython3",
   "version": "3.8.5"
  }
 },
 "nbformat": 4,
 "nbformat_minor": 5
}
